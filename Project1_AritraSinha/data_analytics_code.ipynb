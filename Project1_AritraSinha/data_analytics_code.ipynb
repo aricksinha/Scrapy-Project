{
 "cells": [
  {
   "cell_type": "code",
   "execution_count": 1,
   "metadata": {},
   "outputs": [],
   "source": [
    "import mysql.connector"
   ]
  },
  {
   "cell_type": "code",
   "execution_count": 2,
   "metadata": {},
   "outputs": [],
   "source": [
    "import csv\n",
    "mydb = mysql.connector.connect(\n",
    "  host=\"localhost\",\n",
    "  user=\"root\",\n",
    "  passwd=\"\",\n",
    "  database=\"edulab\"\n",
    ")\n",
    "\n",
    "mycursor = mydb.cursor()\n"
   ]
  },
  {
   "cell_type": "markdown",
   "metadata": {},
   "source": [
    "# inserting data into database"
   ]
  },
  {
   "cell_type": "code",
   "execution_count": 3,
   "metadata": {},
   "outputs": [],
   "source": [
    "with open('naukri_dataanalytics.csv', \"r\") as f:\n",
    "    mycsv=csv.reader(f)\n",
    "    for row in mycsv:   \n",
    "        sql = \"INSERT INTO dataanalyst_ncr (job_title,experience_required, company_name,link_page,keyskills,job_description,salary) VALUES (%s, %s,%s,%s,%s,%s,%s)\"\n",
    "        val = (row[0], row[1],row[3],row[4],row[5],row[6],row[7])\n",
    "        mycursor.execute(sql,val)\n",
    "        mycursor.execute(\"SELECT MAX(job_id) FROM dataanalyst_ncr\")\n",
    "        myresult = mycursor.fetchall()\n",
    "        id=myresult[0][0]\n",
    "        loc=[]\n",
    "        loc=row[2].split(',')\n",
    "        for i,x in enumerate(loc):\n",
    "            sql = \"INSERT INTO location_jobs (job_id,locn_id,location) VALUES (%s,%s,%s)\"\n",
    "            val = (id,i+1,x)\n",
    "            mycursor.execute(sql,val)\n",
    "    \n",
    "    "
   ]
  },
  {
   "cell_type": "code",
   "execution_count": 4,
   "metadata": {},
   "outputs": [],
   "source": [
    "mydb.commit()"
   ]
  },
  {
   "cell_type": "code",
   "execution_count": null,
   "metadata": {},
   "outputs": [],
   "source": []
  }
 ],
 "metadata": {
  "kernelspec": {
   "display_name": "Python 3",
   "language": "python",
   "name": "python3"
  },
  "language_info": {
   "codemirror_mode": {
    "name": "ipython",
    "version": 3
   },
   "file_extension": ".py",
   "mimetype": "text/x-python",
   "name": "python",
   "nbconvert_exporter": "python",
   "pygments_lexer": "ipython3",
   "version": "3.6.5"
  }
 },
 "nbformat": 4,
 "nbformat_minor": 2
}
